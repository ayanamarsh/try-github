{
 "cells": [
  {
   "cell_type": "markdown",
   "id": "ef3b048c",
   "metadata": {},
   "source": [
    "# "
   ]
  },
  {
   "cell_type": "markdown",
   "id": "a01438ea",
   "metadata": {},
   "source": [
    "In this graph, Shannondell drive and Shannondell blvd was the top address with the most 911 calls, with over 800. \n",
    "Shannondell is located in Pennsylvania, with retirement homes all around. \n",
    "The calls in this area may have happened often because the elderly would get sick or hurt and need medical attention. \n"
   ]
  },
  {
   "cell_type": "markdown",
   "id": "a0731ab4",
   "metadata": {},
   "source": [
    "The zip code with the most 911 calls was 19401, located in Norristown, Pennsylvania. \n",
    "It is considered a dangerous city to live in, with high crime rates. \n",
    "Second to that is 19464, which is also located in southeast Pottstown, Pennsylvania, not far from Norristown, so it is plausible why the calls are high in this area too. \n",
    "The lowest number of calls was the zip code 19038, Montgomery County, Pennsylvania.\n",
    "In this area, the crime rate is low, and it is one of the many safe places to live in Pennsylvania."
   ]
  },
  {
   "cell_type": "markdown",
   "id": "2690ee49",
   "metadata": {},
   "source": [
    "On 10/06/2018 more than 8 911 calls went through to the police.\n",
    "On this day, there was a limousine crash that killed 20 people."
   ]
  },
  {
   "cell_type": "code",
   "execution_count": null,
   "id": "98a0dedd",
   "metadata": {},
   "outputs": [],
   "source": []
  }
 ],
 "metadata": {
  "kernelspec": {
   "display_name": "Python 3 (ipykernel)",
   "language": "python",
   "name": "python3"
  },
  "language_info": {
   "codemirror_mode": {
    "name": "ipython",
    "version": 3
   },
   "file_extension": ".py",
   "mimetype": "text/x-python",
   "name": "python",
   "nbconvert_exporter": "python",
   "pygments_lexer": "ipython3",
   "version": "3.9.12"
  }
 },
 "nbformat": 4,
 "nbformat_minor": 5
}
