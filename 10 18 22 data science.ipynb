{
 "cells": [
  {
   "cell_type": "code",
   "execution_count": null,
   "id": "3d359892",
   "metadata": {},
   "outputs": [],
   "source": []
  },
  {
   "cell_type": "code",
   "execution_count": null,
   "id": "19ace176",
   "metadata": {},
   "outputs": [],
   "source": []
  },
  {
   "cell_type": "code",
   "execution_count": 1,
   "id": "e2dfa80c",
   "metadata": {},
   "outputs": [],
   "source": [
    "#cell"
   ]
  },
  {
   "cell_type": "markdown",
   "id": "4756da70",
   "metadata": {},
   "source": [
    "# INTRO TO DATA SCIENCE\n",
    "\n",
    "## HII"
   ]
  },
  {
   "cell_type": "markdown",
   "id": "e50a71bf",
   "metadata": {},
   "source": [
    "##### SMALL\n",
    "\n",
    "* BULLETS \n",
    "    * ITEM"
   ]
  },
  {
   "cell_type": "code",
   "execution_count": 3,
   "id": "be0a4cb9",
   "metadata": {},
   "outputs": [
    {
     "data": {
      "text/plain": [
       "' Lorem ipsum dolor sit amet, consectetur adipiscing elit. Nullam pharetra viverra blandit. Nulla facilisi. Morbi scelerisque sit amet massa at lacinia. Donec eu dolor tortor. Maecenas tortor urna, accumsan eget nunc ut, posuere condimentum leo. Nullam condimentum iaculis rhoncus. Nulla feugiat nunc nisi, pulvinar vestibulum ipsum tempus at. Ut eget est tincidunt, volutpat nibh commodo, finibus mi. Nunc id sollicitudin dolor. Nullam eleifend mattis sem, blandit facilisis mi laoreet in. Donec suscipit, purus vel porttitor sodales, magna eros placerat libero, non elementum augue nisl vel elit. Sed porta volutpat nisi, vel blandit dui.\\n\\n '"
      ]
     },
     "execution_count": 3,
     "metadata": {},
     "output_type": "execute_result"
    }
   ],
   "source": [
    "''' Lorem ipsum dolor sit amet, consectetur adipiscing elit. Nullam pharetra viverra blandit. Nulla facilisi. Morbi scelerisque sit amet massa at lacinia. Donec eu dolor tortor. Maecenas tortor urna, accumsan eget nunc ut, posuere condimentum leo. Nullam condimentum iaculis rhoncus. Nulla feugiat nunc nisi, pulvinar vestibulum ipsum tempus at. Ut eget est tincidunt, volutpat nibh commodo, finibus mi. Nunc id sollicitudin dolor. Nullam eleifend mattis sem, blandit facilisis mi laoreet in. Donec suscipit, purus vel porttitor sodales, magna eros placerat libero, non elementum augue nisl vel elit. Sed porta volutpat nisi, vel blandit dui.\n",
    "\n",
    " '''"
   ]
  },
  {
   "cell_type": "code",
   "execution_count": null,
   "id": "8eef4538",
   "metadata": {},
   "outputs": [],
   "source": []
  }
 ],
 "metadata": {
  "kernelspec": {
   "display_name": "Python 3 (ipykernel)",
   "language": "python",
   "name": "python3"
  },
  "language_info": {
   "codemirror_mode": {
    "name": "ipython",
    "version": 3
   },
   "file_extension": ".py",
   "mimetype": "text/x-python",
   "name": "python",
   "nbconvert_exporter": "python",
   "pygments_lexer": "ipython3",
   "version": "3.9.12"
  }
 },
 "nbformat": 4,
 "nbformat_minor": 5
}
